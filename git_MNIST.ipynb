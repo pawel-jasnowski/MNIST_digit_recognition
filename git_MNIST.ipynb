{
 "cells": [
  {
   "cell_type": "code",
   "execution_count": 1,
   "id": "4c8a220a",
   "metadata": {},
   "outputs": [
    {
     "name": "stdout",
     "output_type": "stream",
     "text": [
      "2.11.0\n"
     ]
    }
   ],
   "source": [
    "import numpy as np\n",
    "import pandas as pd\n",
    "import matplotlib.pyplot as plt\n",
    "\n",
    "import tensorflow as tf\n",
    "from tensorflow.keras.datasets.mnist import load_data\n",
    "from tensorflow.keras.models import Sequential\n",
    "from tensorflow.keras.layers import Flatten, Dense, Dropout\n",
    "\n",
    "import plotly.express as px\n",
    "from plotly.subplots import make_subplots\n",
    "import plotly.graph_objects as go\n",
    "\n",
    "np.set_printoptions(precision=8, suppress=True, linewidth=120) #prinintg from numpy\n",
    "print(tf.__version__)"
   ]
  },
  {
   "cell_type": "code",
   "execution_count": null,
   "id": "d58378b4",
   "metadata": {},
   "outputs": [],
   "source": [
    "# print(\"Num GPUs Available: \", len(tf.config.list_physical_devices('GPU')))"
   ]
  },
  {
   "cell_type": "code",
   "execution_count": null,
   "id": "4d7243df",
   "metadata": {},
   "outputs": [],
   "source": [
    "# tf.debugging.set_log_device_placement(True)\n",
    "\n",
    "# # Create some tensors\n",
    "# a = tf.constant([[1.0, 2.0, 3.0], [4.0, 5.0, 6.0]])\n",
    "# b = tf.constant([[1.0, 2.0], [3.0, 4.0], [5.0, 6.0]])\n",
    "# c = tf.matmul(a, b)\n",
    "\n",
    "# print(c)"
   ]
  },
  {
   "cell_type": "code",
   "execution_count": 2,
   "id": "e1f18bd7",
   "metadata": {},
   "outputs": [
    {
     "name": "stdout",
     "output_type": "stream",
     "text": [
      "X_train shape: (60000, 28, 28)\n",
      "y_train shape: (60000,)\n",
      "X_test shape: (10000, 28, 28)\n",
      "y_test shape: (10000,)\n"
     ]
    }
   ],
   "source": [
    "(X_train, y_train), (X_test, y_test) = load_data()\n",
    "\n",
    "print(f'X_train shape: {X_train.shape}')\n",
    "print(f'y_train shape: {y_train.shape}')\n",
    "print(f'X_test shape: {X_test.shape}')\n",
    "print(f'y_test shape: {y_test.shape}')"
   ]
  },
  {
   "cell_type": "code",
   "execution_count": 3,
   "id": "164fa7a5",
   "metadata": {},
   "outputs": [
    {
     "name": "stdout",
     "output_type": "stream",
     "text": [
      "[[  0   0   0   0   0   0   0   0   0   0   0   0   0   0   0   0   0   0   0   0   0   0   0   0   0   0   0   0]\n",
      " [  0   0   0   0   0   0   0   0   0   0   0   0   0   0   0   0   0   0   0   0   0   0   0   0   0   0   0   0]\n",
      " [  0   0   0   0   0   0   0   0   0   0   0   0   0   0   0   0   0   0   0   0   0   0   0   0   0   0   0   0]\n",
      " [  0   0   0   0   0   0   0   0   0   0   0   0   0   0   0   0   0   0   0   0   0   0   0   0   0   0   0   0]\n",
      " [  0   0   0   0   0   0   0   0   0   0   0   0   0   0   0  51 159 253 159  50   0   0   0   0   0   0   0   0]\n",
      " [  0   0   0   0   0   0   0   0   0   0   0   0   0   0  48 238 252 252 252 237   0   0   0   0   0   0   0   0]\n",
      " [  0   0   0   0   0   0   0   0   0   0   0   0   0  54 227 253 252 239 233 252  57   6   0   0   0   0   0   0]\n",
      " [  0   0   0   0   0   0   0   0   0   0   0  10  60 224 252 253 252 202  84 252 253 122   0   0   0   0   0   0]\n",
      " [  0   0   0   0   0   0   0   0   0   0   0 163 252 252 252 253 252 252  96 189 253 167   0   0   0   0   0   0]\n",
      " [  0   0   0   0   0   0   0   0   0   0  51 238 253 253 190 114 253 228  47  79 255 168   0   0   0   0   0   0]\n",
      " [  0   0   0   0   0   0   0   0   0  48 238 252 252 179  12  75 121  21   0   0 253 243  50   0   0   0   0   0]\n",
      " [  0   0   0   0   0   0   0   0  38 165 253 233 208  84   0   0   0   0   0   0 253 252 165   0   0   0   0   0]\n",
      " [  0   0   0   0   0   0   0   7 178 252 240  71  19  28   0   0   0   0   0   0 253 252 195   0   0   0   0   0]\n",
      " [  0   0   0   0   0   0   0  57 252 252  63   0   0   0   0   0   0   0   0   0 253 252 195   0   0   0   0   0]\n",
      " [  0   0   0   0   0   0   0 198 253 190   0   0   0   0   0   0   0   0   0   0 255 253 196   0   0   0   0   0]\n",
      " [  0   0   0   0   0   0  76 246 252 112   0   0   0   0   0   0   0   0   0   0 253 252 148   0   0   0   0   0]\n",
      " [  0   0   0   0   0   0  85 252 230  25   0   0   0   0   0   0   0   0   7 135 253 186  12   0   0   0   0   0]\n",
      " [  0   0   0   0   0   0  85 252 223   0   0   0   0   0   0   0   0   7 131 252 225  71   0   0   0   0   0   0]\n",
      " [  0   0   0   0   0   0  85 252 145   0   0   0   0   0   0   0  48 165 252 173   0   0   0   0   0   0   0   0]\n",
      " [  0   0   0   0   0   0  86 253 225   0   0   0   0   0   0 114 238 253 162   0   0   0   0   0   0   0   0   0]\n",
      " [  0   0   0   0   0   0  85 252 249 146  48  29  85 178 225 253 223 167  56   0   0   0   0   0   0   0   0   0]\n",
      " [  0   0   0   0   0   0  85 252 252 252 229 215 252 252 252 196 130   0   0   0   0   0   0   0   0   0   0   0]\n",
      " [  0   0   0   0   0   0  28 199 252 252 253 252 252 233 145   0   0   0   0   0   0   0   0   0   0   0   0   0]\n",
      " [  0   0   0   0   0   0   0  25 128 252 253 252 141  37   0   0   0   0   0   0   0   0   0   0   0   0   0   0]\n",
      " [  0   0   0   0   0   0   0   0   0   0   0   0   0   0   0   0   0   0   0   0   0   0   0   0   0   0   0   0]\n",
      " [  0   0   0   0   0   0   0   0   0   0   0   0   0   0   0   0   0   0   0   0   0   0   0   0   0   0   0   0]\n",
      " [  0   0   0   0   0   0   0   0   0   0   0   0   0   0   0   0   0   0   0   0   0   0   0   0   0   0   0   0]\n",
      " [  0   0   0   0   0   0   0   0   0   0   0   0   0   0   0   0   0   0   0   0   0   0   0   0   0   0   0   0]]\n"
     ]
    }
   ],
   "source": [
    "print(X_train[1])"
   ]
  },
  {
   "cell_type": "code",
   "execution_count": 4,
   "id": "b98e04f5",
   "metadata": {},
   "outputs": [],
   "source": [
    "X_train = X_train / 255\n",
    "X_test = X_test / 255"
   ]
  },
  {
   "cell_type": "code",
   "execution_count": 5,
   "id": "d7b4f6a2",
   "metadata": {},
   "outputs": [
    {
     "data": {
      "text/plain": [
       "<matplotlib.image.AxesImage at 0x297cedd69b0>"
      ]
     },
     "execution_count": 5,
     "metadata": {},
     "output_type": "execute_result"
    },
    {
     "data": {
      "image/png": "[encoded data removed]",
      "text/plain": [
       "<Figure size 640x480 with 1 Axes>"
      ]
     },
     "metadata": {},
     "output_type": "display_data"
    }
   ],
   "source": [
    "plt.imshow(X_train[1], cmap='gray_r') \n",
    "# plt.axis('off')"
   ]
  },
  {
   "cell_type": "code",
   "execution_count": null,
   "id": "34773cf5",
   "metadata": {},
   "outputs": [],
   "source": [
    "# for i in range(1,11):\n",
    "#     plt.subplot(1,10,i)\n",
    "#     plt.axis('off')\n",
    "#     plt.imshow(X_train[i-1], cmap='gray_r')\n",
    "#     plt.title(y_train[i-1], color='black', fontsize=10)\n",
    "# plt.show()"
   ]
  },
  {
   "cell_type": "code",
   "execution_count": null,
   "id": "d9e125cf",
   "metadata": {},
   "outputs": [],
   "source": [
    "# OUR MODELS\n",
    "\n",
    "#SMALL MODEL\n",
    "model_small = Sequential()\n",
    "model_small.add(Flatten(input_shape=(28,28)))\n",
    "model_small.add(Dense(units=8, activation='relu'))\n",
    "model_small.add(Dropout(0.2))#20% of data for dropout\n",
    "model_small.add(Dense(units=10, activation='softmax')) #output\n",
    "\n",
    "model_small.compile(optimizer='adam',\n",
    "              loss='sparse_categorical_crossentropy',\n",
    "              metrics=['accuracy'])\n",
    "\n",
    "model_small.summary()\n",
    "\n"
   ]
  },
  {
   "cell_type": "code",
   "execution_count": null,
   "id": "2950200a",
   "metadata": {},
   "outputs": [],
   "source": [
    "# model trening- fit ! \n",
    "history_small = model_small.fit(X_train, y_train, epochs=30, batch_size=50, validation_split=0.2, verbose=0)"
   ]
  },
  {
   "cell_type": "code",
   "execution_count": null,
   "id": "1633fd8d",
   "metadata": {},
   "outputs": [],
   "source": [
    "metrics_small=pd.DataFrame(history_small.history)\n",
    "metrics_small.head()"
   ]
  },
  {
   "cell_type": "code",
   "execution_count": 6,
   "id": "a8830935",
   "metadata": {},
   "outputs": [
    {
     "name": "stdout",
     "output_type": "stream",
     "text": [
      "Model: \"sequential\"\n",
      "_________________________________________________________________\n",
      " Layer (type)                Output Shape              Param #   \n",
      "=================================================================\n",
      " flatten (Flatten)           (None, 784)               0         \n",
      "                                                                 \n",
      " dense (Dense)               (None, 128)               100480    \n",
      "                                                                 \n",
      " dropout (Dropout)           (None, 128)               0         \n",
      "                                                                 \n",
      " dense_1 (Dense)             (None, 10)                1290      \n",
      "                                                                 \n",
      "=================================================================\n",
      "Total params: 101,770\n",
      "Trainable params: 101,770\n",
      "Non-trainable params: 0\n",
      "_________________________________________________________________\n"
     ]
    }
   ],
   "source": [
    "# OUR MODELS\n",
    "\n",
    "#BASIC MODEL\n",
    "model_basic = Sequential()\n",
    "model_basic.add(Flatten(input_shape=(28,28)))\n",
    "model_basic.add(Dense(units=128, activation='relu'))\n",
    "model_basic.add(Dropout(0.2))#20% of data for dropout\n",
    "model_basic.add(Dense(units=10, activation='softmax')) #output\n",
    "\n",
    "model_basic.compile(optimizer='adam',\n",
    "              loss='sparse_categorical_crossentropy',\n",
    "              metrics=['accuracy'])\n",
    "\n",
    "model_basic.summary()"
   ]
  },
  {
   "cell_type": "code",
   "execution_count": 7,
   "id": "27f51ab3",
   "metadata": {
    "scrolled": false
   },
   "outputs": [
    {
     "name": "stdout",
     "output_type": "stream",
     "text": [
      "Epoch 1/30\n",
      "960/960 [==============================] - 5s 4ms/step - loss: 0.3592 - accuracy: 0.8963 - val_loss: 0.1698 - val_accuracy: 0.9519\n",
      "Epoch 2/30\n",
      "960/960 [==============================] - 4s 4ms/step - loss: 0.1733 - accuracy: 0.9486 - val_loss: 0.1260 - val_accuracy: 0.9622\n",
      "Epoch 3/30\n",
      "960/960 [==============================] - 5s 5ms/step - loss: 0.1301 - accuracy: 0.9614 - val_loss: 0.1055 - val_accuracy: 0.9687\n",
      "Epoch 4/30\n",
      "960/960 [==============================] - 5s 5ms/step - loss: 0.1041 - accuracy: 0.9697 - val_loss: 0.0986 - val_accuracy: 0.9693\n",
      "Epoch 5/30\n",
      "960/960 [==============================] - 4s 5ms/step - loss: 0.0881 - accuracy: 0.9735 - val_loss: 0.0878 - val_accuracy: 0.9741\n",
      "Epoch 6/30\n",
      "960/960 [==============================] - 4s 4ms/step - loss: 0.0759 - accuracy: 0.9771 - val_loss: 0.0869 - val_accuracy: 0.9747\n",
      "Epoch 7/30\n",
      "960/960 [==============================] - 4s 4ms/step - loss: 0.0669 - accuracy: 0.9783 - val_loss: 0.0844 - val_accuracy: 0.9754\n",
      "Epoch 8/30\n",
      "960/960 [==============================] - 4s 4ms/step - loss: 0.0608 - accuracy: 0.9806 - val_loss: 0.0805 - val_accuracy: 0.9777\n",
      "Epoch 9/30\n",
      "960/960 [==============================] - 4s 4ms/step - loss: 0.0548 - accuracy: 0.9819 - val_loss: 0.0748 - val_accuracy: 0.9793\n",
      "Epoch 10/30\n",
      "960/960 [==============================] - 4s 4ms/step - loss: 0.0487 - accuracy: 0.9839 - val_loss: 0.0788 - val_accuracy: 0.9765\n",
      "Epoch 11/30\n",
      "960/960 [==============================] - 4s 5ms/step - loss: 0.0458 - accuracy: 0.9854 - val_loss: 0.0809 - val_accuracy: 0.9780\n",
      "Epoch 12/30\n",
      "960/960 [==============================] - 4s 4ms/step - loss: 0.0415 - accuracy: 0.9867 - val_loss: 0.0798 - val_accuracy: 0.9768\n",
      "Epoch 13/30\n",
      "960/960 [==============================] - 4s 4ms/step - loss: 0.0365 - accuracy: 0.9878 - val_loss: 0.0764 - val_accuracy: 0.9787\n",
      "Epoch 14/30\n",
      "960/960 [==============================] - 4s 4ms/step - loss: 0.0343 - accuracy: 0.9882 - val_loss: 0.0806 - val_accuracy: 0.9783\n",
      "Epoch 15/30\n",
      "960/960 [==============================] - 4s 4ms/step - loss: 0.0334 - accuracy: 0.9891 - val_loss: 0.0800 - val_accuracy: 0.9799\n",
      "Epoch 16/30\n",
      "960/960 [==============================] - 3s 4ms/step - loss: 0.0303 - accuracy: 0.9900 - val_loss: 0.0788 - val_accuracy: 0.9790\n",
      "Epoch 17/30\n",
      "960/960 [==============================] - 4s 4ms/step - loss: 0.0283 - accuracy: 0.9904 - val_loss: 0.0842 - val_accuracy: 0.9796\n",
      "Epoch 18/30\n",
      "960/960 [==============================] - 3s 3ms/step - loss: 0.0282 - accuracy: 0.9901 - val_loss: 0.0831 - val_accuracy: 0.9796\n",
      "Epoch 19/30\n",
      "960/960 [==============================] - 5s 5ms/step - loss: 0.0279 - accuracy: 0.9908 - val_loss: 0.0829 - val_accuracy: 0.9792\n",
      "Epoch 20/30\n",
      "960/960 [==============================] - 5s 5ms/step - loss: 0.0267 - accuracy: 0.9907 - val_loss: 0.0825 - val_accuracy: 0.9795\n",
      "Epoch 21/30\n",
      "960/960 [==============================] - 4s 4ms/step - loss: 0.0244 - accuracy: 0.9916 - val_loss: 0.0832 - val_accuracy: 0.9788\n",
      "Epoch 22/30\n",
      "960/960 [==============================] - 4s 4ms/step - loss: 0.0243 - accuracy: 0.9918 - val_loss: 0.0822 - val_accuracy: 0.9801\n",
      "Epoch 23/30\n",
      "960/960 [==============================] - 4s 4ms/step - loss: 0.0208 - accuracy: 0.9925 - val_loss: 0.0839 - val_accuracy: 0.9793\n",
      "Epoch 24/30\n",
      "960/960 [==============================] - 4s 4ms/step - loss: 0.0210 - accuracy: 0.9929 - val_loss: 0.0906 - val_accuracy: 0.9794\n",
      "Epoch 25/30\n",
      "960/960 [==============================] - 4s 5ms/step - loss: 0.0216 - accuracy: 0.9925 - val_loss: 0.0900 - val_accuracy: 0.9797\n",
      "Epoch 26/30\n",
      "960/960 [==============================] - 5s 5ms/step - loss: 0.0221 - accuracy: 0.9925 - val_loss: 0.0860 - val_accuracy: 0.9812\n",
      "Epoch 27/30\n",
      "960/960 [==============================] - 5s 5ms/step - loss: 0.0195 - accuracy: 0.9934 - val_loss: 0.0923 - val_accuracy: 0.9789\n",
      "Epoch 28/30\n",
      "960/960 [==============================] - 4s 4ms/step - loss: 0.0192 - accuracy: 0.9931 - val_loss: 0.0929 - val_accuracy: 0.9787\n",
      "Epoch 29/30\n",
      "960/960 [==============================] - 7s 7ms/step - loss: 0.0189 - accuracy: 0.9933 - val_loss: 0.1007 - val_accuracy: 0.9786\n",
      "Epoch 30/30\n",
      "960/960 [==============================] - 4s 5ms/step - loss: 0.0179 - accuracy: 0.9941 - val_loss: 0.0944 - val_accuracy: 0.9788\n"
     ]
    }
   ],
   "source": [
    "# model trening- fit ! \n",
    "history_basic = model_basic.fit(X_train, y_train, epochs=30, batch_size=50, validation_split=0.2)"
   ]
  },
  {
   "cell_type": "code",
   "execution_count": 8,
   "id": "1441b6de",
   "metadata": {},
   "outputs": [
    {
     "data": {
      "text/html": [
       "<div>\n",
       "<style scoped>\n",
       "    .dataframe tbody tr th:only-of-type {\n",
       "        vertical-align: middle;\n",
       "    }\n",
       "\n",
       "    .dataframe tbody tr th {\n",
       "        vertical-align: top;\n",
       "    }\n",
       "\n",
       "    .dataframe thead th {\n",
       "        text-align: right;\n",
       "    }\n",
       "</style>\n",
       "<table border=\"1\" class=\"dataframe\">\n",
       "  <thead>\n",
       "    <tr style=\"text-align: right;\">\n",
       "      <th></th>\n",
       "      <th>loss</th>\n",
       "      <th>accuracy</th>\n",
       "      <th>val_loss</th>\n",
       "      <th>val_accuracy</th>\n",
       "    </tr>\n",
       "  </thead>\n",
       "  <tbody>\n",
       "    <tr>\n",
       "      <th>0</th>\n",
       "      <td>0.359197</td>\n",
       "      <td>0.896250</td>\n",
       "      <td>0.169836</td>\n",
       "      <td>0.951917</td>\n",
       "    </tr>\n",
       "    <tr>\n",
       "      <th>1</th>\n",
       "      <td>0.173348</td>\n",
       "      <td>0.948583</td>\n",
       "      <td>0.125992</td>\n",
       "      <td>0.962250</td>\n",
       "    </tr>\n",
       "    <tr>\n",
       "      <th>2</th>\n",
       "      <td>0.130116</td>\n",
       "      <td>0.961438</td>\n",
       "      <td>0.105528</td>\n",
       "      <td>0.968667</td>\n",
       "    </tr>\n",
       "    <tr>\n",
       "      <th>3</th>\n",
       "      <td>0.104073</td>\n",
       "      <td>0.969708</td>\n",
       "      <td>0.098619</td>\n",
       "      <td>0.969250</td>\n",
       "    </tr>\n",
       "    <tr>\n",
       "      <th>4</th>\n",
       "      <td>0.088057</td>\n",
       "      <td>0.973521</td>\n",
       "      <td>0.087750</td>\n",
       "      <td>0.974083</td>\n",
       "    </tr>\n",
       "  </tbody>\n",
       "</table>\n",
       "</div>"
      ],
      "text/plain": [
       "       loss  accuracy  val_loss  val_accuracy\n",
       "0  0.359197  0.896250  0.169836      0.951917\n",
       "1  0.173348  0.948583  0.125992      0.962250\n",
       "2  0.130116  0.961438  0.105528      0.968667\n",
       "3  0.104073  0.969708  0.098619      0.969250\n",
       "4  0.088057  0.973521  0.087750      0.974083"
      ]
     },
     "execution_count": 8,
     "metadata": {},
     "output_type": "execute_result"
    }
   ],
   "source": [
    "metrics_basic=pd.DataFrame(history_basic.history)\n",
    "metrics_basic.head()"
   ]
  },
  {
   "cell_type": "code",
   "execution_count": null,
   "id": "cd7424b8",
   "metadata": {},
   "outputs": [],
   "source": [
    "# loss_test_basic, accuracy_test_basic =  model_big.evaluate(X_test, y_test)"
   ]
  },
  {
   "cell_type": "code",
   "execution_count": null,
   "id": "36bf0136",
   "metadata": {},
   "outputs": [],
   "source": [
    "# OUR MODELS\n",
    "\n",
    "#BIG MODEL\n",
    "model_big = Sequential()\n",
    "model_big.add(Flatten(input_shape=(28,28)))\n",
    "model_big.add(Dense(units=256, activation='relu'))\n",
    "model_big.add(Dense(units=512, activation='relu'))\n",
    "model_big.add(Dropout(0.2))#20% of data for dropout on reg.\n",
    "model_big.add(Dense(units=10, activation='softmax')) #output\n",
    "\n",
    "model_big.compile(optimizer='adam',\n",
    "              loss='sparse_categorical_crossentropy',\n",
    "              metrics=['accuracy'])\n",
    "\n",
    "model_big.summary()\n"
   ]
  },
  {
   "cell_type": "code",
   "execution_count": null,
   "id": "d21f138a",
   "metadata": {},
   "outputs": [],
   "source": [
    "history_big = model_big.fit(X_train, y_train, epochs=30, batch_size=50, validation_split=0.2)"
   ]
  },
  {
   "cell_type": "code",
   "execution_count": null,
   "id": "9ce17e9e",
   "metadata": {
    "scrolled": true
   },
   "outputs": [],
   "source": [
    "metrics_big=pd.DataFrame(history_big.history)\n",
    "metrics_big.head()"
   ]
  },
  {
   "cell_type": "code",
   "execution_count": null,
   "id": "59b23fb2",
   "metadata": {},
   "outputs": [],
   "source": [
    "## Three models and its accuracy/plots below. As we can see our basic model is doing almost as good as the big one if we look at the accuracy.\n",
    "## It means that we don`t need that kind of complex architecture. Loss and accuracy for our small model may be a little weak for us.\n",
    "## Big model overfits very quickly\n",
    "\n",
    "## SMALL MODEL - one hidden layer with 8 units\n",
    "## BASIC MODEL - one hidden layer with 128 units\n",
    "## BIG MODEL - two hidden layer with 512/256 units\n",
    "\n",
    "fig = make_subplots(rows=2, cols=1)\n",
    "\n",
    "fig.add_trace(go.Scatter(y=metrics_small['loss'],name='loss_small'), row=1, col=1)\n",
    "fig.add_trace(go.Scatter(y=metrics_small['accuracy'],name='accuracy_small'), row=2, col=1)\n",
    "fig.add_trace(go.Scatter(y=metrics_small['val_loss'],name='val_loss_small'), row=1, col=1)\n",
    "fig.add_trace(go.Scatter(y=metrics_small['val_accuracy'],name='val_accuracy_small'), row=2, col=1)\n",
    "\n",
    "fig.add_trace(go.Scatter(y=metrics_basic['loss'],name='loss_basic'), row=1, col=1)\n",
    "fig.add_trace(go.Scatter(y=metrics_basic['accuracy'],name='accuracy_basic'), row=2, col=1)\n",
    "fig.add_trace(go.Scatter(y=metrics_basic['val_loss'],name='val_loss_basic'), row=1, col=1)\n",
    "fig.add_trace(go.Scatter(y=metrics_basic['val_accuracy'],name='val_accuracy_basic'), row=2, col=1)\n",
    "\n",
    "fig.add_trace(go.Scatter(y=metrics_big['loss'],name='loss_big'), row=1, col=1)\n",
    "fig.add_trace(go.Scatter(y=metrics_big['accuracy'],name='accuracy_big'), row=2, col=1)\n",
    "fig.add_trace(go.Scatter(y=metrics_big['val_loss'],name='val_loss_big'), row=1, col=1)\n",
    "fig.add_trace(go.Scatter(y=metrics_big['val_accuracy'],name='val_accuracy_big'), row=2, col=1)\n",
    "\n",
    "fig.update_layout(width=1000)"
   ]
  },
  {
   "cell_type": "code",
   "execution_count": 30,
   "id": "501cc39b",
   "metadata": {},
   "outputs": [
    {
     "name": "stdout",
     "output_type": "stream",
     "text": [
      "313/313 [==============================] - 1s 2ms/step - loss: 0.1372 - accuracy: 0.9796\n"
     ]
    }
   ],
   "source": [
    "loss_basic, accuracy_basic =  model_basic.evaluate(X_test, y_test)"
   ]
  },
  {
   "cell_type": "code",
   "execution_count": null,
   "id": "4e39f784",
   "metadata": {},
   "outputs": [],
   "source": [
    "loss_small, accuracy_small =  model_small.evaluate(X_test, y_test)"
   ]
  },
  {
   "cell_type": "code",
   "execution_count": null,
   "id": "7d98b62c",
   "metadata": {},
   "outputs": [],
   "source": [
    "loss_big, accuracy_big =  model_big.evaluate(X_test, y_test)"
   ]
  },
  {
   "cell_type": "code",
   "execution_count": 70,
   "id": "70eeb343",
   "metadata": {},
   "outputs": [],
   "source": [
    "## We could try to find \"the best models\" using checkpoint and earlystopping. Lets find out how many epochs is enough to get the best model out from basic and the big model\n",
    "## We use vaL_accuracy as monitor and 5 epochs for earlystopping and saving weights to the file\n",
    "## When looking for 'the best big model' we should monit loss metric - this model overfit very quickly as we can see at the plot\n",
    "\n",
    "\n",
    "from tensorflow.keras.callbacks import ModelCheckpoint, EarlyStopping\n",
    "\n",
    "# basic model\n",
    "filepath ='best_basic_model_weights.hdf5'\n",
    "checkpoint = ModelCheckpoint(filepath=filepath, monitor='val_accuracy', save_best_only=True, save_weights_only=True, verbose=1)\n",
    "es = EarlyStopping(monitor='val_accuracy', mode='max', verbose = 1, patience = 5)"
   ]
  },
  {
   "cell_type": "code",
   "execution_count": 71,
   "id": "bbb8df74",
   "metadata": {},
   "outputs": [
    {
     "name": "stdout",
     "output_type": "stream",
     "text": [
      "Epoch 1/10\n",
      "960/960 [==============================] - ETA: 0s - loss: 0.0086 - accuracy: 0.9970\n",
      "Epoch 1: val_accuracy improved from -inf to 0.98033, saving model to best_basic_model_weights.hdf5\n",
      "960/960 [==============================] - 5s 5ms/step - loss: 0.0086 - accuracy: 0.9970 - val_loss: 0.1560 - val_accuracy: 0.9803\n",
      "Epoch 2/10\n",
      "952/960 [============================>.] - ETA: 0s - loss: 0.0096 - accuracy: 0.9968\n",
      "Epoch 2: val_accuracy did not improve from 0.98033\n",
      "960/960 [==============================] - 4s 4ms/step - loss: 0.0097 - accuracy: 0.9968 - val_loss: 0.1535 - val_accuracy: 0.9803\n",
      "Epoch 3/10\n",
      "955/960 [============================>.] - ETA: 0s - loss: 0.0090 - accuracy: 0.9970\n",
      "Epoch 3: val_accuracy improved from 0.98033 to 0.98092, saving model to best_basic_model_weights.hdf5\n",
      "960/960 [==============================] - 4s 5ms/step - loss: 0.0090 - accuracy: 0.9971 - val_loss: 0.1651 - val_accuracy: 0.9809\n",
      "Epoch 4/10\n",
      "950/960 [============================>.] - ETA: 0s - loss: 0.0101 - accuracy: 0.9967\n",
      "Epoch 4: val_accuracy did not improve from 0.98092\n",
      "960/960 [==============================] - 4s 4ms/step - loss: 0.0102 - accuracy: 0.9967 - val_loss: 0.1564 - val_accuracy: 0.9796\n",
      "Epoch 5/10\n",
      "952/960 [============================>.] - ETA: 0s - loss: 0.0067 - accuracy: 0.9976\n",
      "Epoch 5: val_accuracy did not improve from 0.98092\n",
      "960/960 [==============================] - 4s 4ms/step - loss: 0.0067 - accuracy: 0.9976 - val_loss: 0.1617 - val_accuracy: 0.9803\n",
      "Epoch 6/10\n",
      "959/960 [============================>.] - ETA: 0s - loss: 0.0094 - accuracy: 0.9971\n",
      "Epoch 6: val_accuracy did not improve from 0.98092\n",
      "960/960 [==============================] - 4s 5ms/step - loss: 0.0094 - accuracy: 0.9971 - val_loss: 0.1630 - val_accuracy: 0.9787\n",
      "Epoch 7/10\n",
      "957/960 [============================>.] - ETA: 0s - loss: 0.0075 - accuracy: 0.9973\n",
      "Epoch 7: val_accuracy did not improve from 0.98092\n",
      "960/960 [==============================] - 4s 4ms/step - loss: 0.0075 - accuracy: 0.9973 - val_loss: 0.1667 - val_accuracy: 0.9788\n",
      "Epoch 8/10\n",
      "949/960 [============================>.] - ETA: 0s - loss: 0.0081 - accuracy: 0.9974\n",
      "Epoch 8: val_accuracy did not improve from 0.98092\n",
      "960/960 [==============================] - 5s 5ms/step - loss: 0.0081 - accuracy: 0.9975 - val_loss: 0.1638 - val_accuracy: 0.9802\n",
      "Epoch 8: early stopping\n"
     ]
    }
   ],
   "source": [
    "history__best_basic = model_basic.fit(X_train, y_train, epochs=10, batch_size=50, validation_split=0.2, callbacks=[checkpoint, es])"
   ]
  },
  {
   "cell_type": "code",
   "execution_count": 27,
   "id": "4df5badd",
   "metadata": {},
   "outputs": [
    {
     "name": "stdout",
     "output_type": "stream",
     "text": [
      "Model: \"sequential_4\"\n",
      "_________________________________________________________________\n",
      " Layer (type)                Output Shape              Param #   \n",
      "=================================================================\n",
      " flatten_4 (Flatten)         (None, 784)               0         \n",
      "                                                                 \n",
      " dense_8 (Dense)             (None, 128)               100480    \n",
      "                                                                 \n",
      " dropout_4 (Dropout)         (None, 128)               0         \n",
      "                                                                 \n",
      " dense_9 (Dense)             (None, 10)                1290      \n",
      "                                                                 \n",
      "=================================================================\n",
      "Total params: 101,770\n",
      "Trainable params: 101,770\n",
      "Non-trainable params: 0\n",
      "_________________________________________________________________\n"
     ]
    }
   ],
   "source": [
    "#BEST BASIC MODEL - loading weights from the file\n",
    "\n",
    "best_model_basic = Sequential()\n",
    "best_model_basic.add(Flatten(input_shape=(28,28)))\n",
    "best_model_basic.add(Dense(units=128, activation='relu'))\n",
    "best_model_basic.add(Dropout(0.2))#20% of data for dropout\n",
    "best_model_basic.add(Dense(units=10, activation='softmax')) #output\n",
    "\n",
    "best_model_basic.compile(optimizer='adam',\n",
    "              loss='sparse_categorical_crossentropy',\n",
    "              metrics=['accuracy'])\n",
    "best_model_basic.load_weights('best_basic_model_weights.hdf5')\n",
    "\n",
    "best_model_basic.summary()\n",
    "best_model_basic.save('my_best_basic_model.h5')"
   ]
  },
  {
   "cell_type": "code",
   "execution_count": 72,
   "id": "add22bcb",
   "metadata": {},
   "outputs": [
    {
     "name": "stdout",
     "output_type": "stream",
     "text": [
      "313/313 [==============================] - 1s 2ms/step - loss: 0.1415 - accuracy: 0.9795\n"
     ]
    }
   ],
   "source": [
    "loss_basic, accuracy_basic =  model_basic.evaluate(X_test, y_test)"
   ]
  },
  {
   "cell_type": "code",
   "execution_count": 73,
   "id": "e02b6ac7",
   "metadata": {},
   "outputs": [
    {
     "data": {
      "text/html": [
       "<div>\n",
       "<style scoped>\n",
       "    .dataframe tbody tr th:only-of-type {\n",
       "        vertical-align: middle;\n",
       "    }\n",
       "\n",
       "    .dataframe tbody tr th {\n",
       "        vertical-align: top;\n",
       "    }\n",
       "\n",
       "    .dataframe thead th {\n",
       "        text-align: right;\n",
       "    }\n",
       "</style>\n",
       "<table border=\"1\" class=\"dataframe\">\n",
       "  <thead>\n",
       "    <tr style=\"text-align: right;\">\n",
       "      <th></th>\n",
       "      <th>loss</th>\n",
       "      <th>accuracy</th>\n",
       "      <th>val_loss</th>\n",
       "      <th>val_accuracy</th>\n",
       "    </tr>\n",
       "  </thead>\n",
       "  <tbody>\n",
       "    <tr>\n",
       "      <th>0</th>\n",
       "      <td>0.008613</td>\n",
       "      <td>0.996958</td>\n",
       "      <td>0.155979</td>\n",
       "      <td>0.980333</td>\n",
       "    </tr>\n",
       "    <tr>\n",
       "      <th>1</th>\n",
       "      <td>0.009671</td>\n",
       "      <td>0.996792</td>\n",
       "      <td>0.153532</td>\n",
       "      <td>0.980250</td>\n",
       "    </tr>\n",
       "    <tr>\n",
       "      <th>2</th>\n",
       "      <td>0.008958</td>\n",
       "      <td>0.997063</td>\n",
       "      <td>0.165116</td>\n",
       "      <td>0.980917</td>\n",
       "    </tr>\n",
       "    <tr>\n",
       "      <th>3</th>\n",
       "      <td>0.010169</td>\n",
       "      <td>0.996708</td>\n",
       "      <td>0.156386</td>\n",
       "      <td>0.979583</td>\n",
       "    </tr>\n",
       "    <tr>\n",
       "      <th>4</th>\n",
       "      <td>0.006684</td>\n",
       "      <td>0.997583</td>\n",
       "      <td>0.161739</td>\n",
       "      <td>0.980333</td>\n",
       "    </tr>\n",
       "  </tbody>\n",
       "</table>\n",
       "</div>"
      ],
      "text/plain": [
       "       loss  accuracy  val_loss  val_accuracy\n",
       "0  0.008613  0.996958  0.155979      0.980333\n",
       "1  0.009671  0.996792  0.153532      0.980250\n",
       "2  0.008958  0.997063  0.165116      0.980917\n",
       "3  0.010169  0.996708  0.156386      0.979583\n",
       "4  0.006684  0.997583  0.161739      0.980333"
      ]
     },
     "execution_count": 73,
     "metadata": {},
     "output_type": "execute_result"
    }
   ],
   "source": [
    "metrics_best_basic=pd.DataFrame(history__best_basic.history)\n",
    "metrics_best_basic.head()"
   ]
  },
  {
   "cell_type": "code",
   "execution_count": 74,
   "id": "9383de6d",
   "metadata": {},
   "outputs": [],
   "source": [
    "reconstructed_model.load_weights('best_basic_model_weights.hdf5')"
   ]
  },
  {
   "cell_type": "code",
   "execution_count": 75,
   "id": "f8a9f0a8",
   "metadata": {},
   "outputs": [
    {
     "name": "stdout",
     "output_type": "stream",
     "text": [
      "313/313 [==============================] - 1s 2ms/step - loss: 0.1534 - accuracy: 0.0990\n"
     ]
    },
    {
     "data": {
      "text/plain": [
       "[0.15337024629116058, 0.0989999994635582]"
      ]
     },
     "execution_count": 75,
     "metadata": {},
     "output_type": "execute_result"
    }
   ],
   "source": [
    "reconstructed_model.evaluate(X_test, y_test)"
   ]
  },
  {
   "cell_type": "code",
   "execution_count": 14,
   "id": "89dbdffa",
   "metadata": {},
   "outputs": [
    {
     "ename": "NameError",
     "evalue": "name 'model_big' is not defined",
     "output_type": "error",
     "traceback": [
      "\u001B[1;31m---------------------------------------------------------------------------\u001B[0m",
      "\u001B[1;31mNameError\u001B[0m                                 Traceback (most recent call last)",
      "Cell \u001B[1;32mIn[14], line 7\u001B[0m\n\u001B[0;32m      5\u001B[0m checkpoint \u001B[38;5;241m=\u001B[39m ModelCheckpoint(filepath\u001B[38;5;241m=\u001B[39mfilepath, monitor\u001B[38;5;241m=\u001B[39m\u001B[38;5;124m'\u001B[39m\u001B[38;5;124mval_accuracy\u001B[39m\u001B[38;5;124m'\u001B[39m, save_best_only\u001B[38;5;241m=\u001B[39m\u001B[38;5;28;01mTrue\u001B[39;00m, mode\u001B[38;5;241m=\u001B[39m\u001B[38;5;124m'\u001B[39m\u001B[38;5;124mmax\u001B[39m\u001B[38;5;124m'\u001B[39m, verbose\u001B[38;5;241m=\u001B[39m\u001B[38;5;241m1\u001B[39m)\n\u001B[0;32m      6\u001B[0m es \u001B[38;5;241m=\u001B[39m EarlyStopping(monitor\u001B[38;5;241m=\u001B[39m\u001B[38;5;124m'\u001B[39m\u001B[38;5;124mval_loss\u001B[39m\u001B[38;5;124m'\u001B[39m, mode\u001B[38;5;241m=\u001B[39m\u001B[38;5;124m'\u001B[39m\u001B[38;5;124mmin\u001B[39m\u001B[38;5;124m'\u001B[39m, verbose \u001B[38;5;241m=\u001B[39m \u001B[38;5;241m1\u001B[39m, patience \u001B[38;5;241m=\u001B[39m \u001B[38;5;241m5\u001B[39m)\n\u001B[1;32m----> 7\u001B[0m history__best_big \u001B[38;5;241m=\u001B[39m \u001B[43mmodel_big\u001B[49m\u001B[38;5;241m.\u001B[39mfit(X_train, y_train, epochs\u001B[38;5;241m=\u001B[39m\u001B[38;5;241m30\u001B[39m, batch_size\u001B[38;5;241m=\u001B[39m\u001B[38;5;241m50\u001B[39m, validation_split\u001B[38;5;241m=\u001B[39m\u001B[38;5;241m0.2\u001B[39m, callbacks\u001B[38;5;241m=\u001B[39m[checkpoint])\n",
      "\u001B[1;31mNameError\u001B[0m: name 'model_big' is not defined"
     ]
    }
   ],
   "source": [
    "#big  model\n",
    "\n",
    "filepath ='best_big_model_weights.hdf5'\n",
    "\n",
    "checkpoint = ModelCheckpoint(filepath=filepath, monitor='val_accuracy', save_best_only=True, mode='max', verbose=1)\n",
    "es = EarlyStopping(monitor='val_loss', mode='min', verbose = 1, patience = 5)\n",
    "history__best_big = model_big.fit(X_train, y_train, epochs=30, batch_size=50, validation_split=0.2, callbacks=[checkpoint, es])"
   ]
  },
  {
   "cell_type": "code",
   "execution_count": null,
   "id": "04198a0a",
   "metadata": {},
   "outputs": [],
   "source": [
    "#BEST BIG MODEL - loading weights from the file\n",
    "\n",
    "best_model_big = Sequential()\n",
    "best_model_big.add(Flatten(input_shape=(28,28)))\n",
    "best_model_big.add(Dense(units=256, activation='relu'))\n",
    "best_model_big.add(Dense(units=512, activation='relu'))\n",
    "best_model_big.add(Dropout(0.2))#20% of data for dropout on reg.\n",
    "best_model_big.add(Dense(units=10, activation='softmax')) #output\n",
    "\n",
    "best_model_big.compile(optimizer='adam',\n",
    "              loss='sparse_categorical_crossentropy',\n",
    "              metrics=['accuracy'])\n",
    "best_model_big.load_weights('best_big_model_weights.hdf5')\n",
    "\n",
    "best_model_big.save('my_best_big_model.h5')\n",
    "best_model_big.summary()"
   ]
  },
  {
   "cell_type": "code",
   "execution_count": null,
   "id": "a8f2fa8c",
   "metadata": {},
   "outputs": [],
   "source": [
    "loss_best_model_big, accuracy_best_model_big =  best_model_big.evaluate(X_test, y_test)"
   ]
  }
 ],
 "metadata": {
  "kernelspec": {
   "display_name": "Python 3 (ipykernel)",
   "language": "python",
   "name": "python3"
  },
  "language_info": {
   "codemirror_mode": {
    "name": "ipython",
    "version": 3
   },
   "file_extension": ".py",
   "mimetype": "text/x-python",
   "name": "python",
   "nbconvert_exporter": "python",
   "pygments_lexer": "ipython3",
   "version": "3.10.7"
  }
 },
 "nbformat": 4,
 "nbformat_minor": 5
}
